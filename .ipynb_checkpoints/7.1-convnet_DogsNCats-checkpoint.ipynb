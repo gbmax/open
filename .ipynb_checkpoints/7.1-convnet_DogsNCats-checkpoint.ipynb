{
 "cells": [
  {
   "cell_type": "code",
   "execution_count": null,
   "metadata": {
    "id": "g6cjAWXSQPk1"
   },
   "outputs": [],
   "source": [
    "# (실습 1)\n",
    "# 적은 데이터를 사용해 이미지 분류 모델 훈련 : 수백 개에서 수만 개 사이\n",
    "# 4,000개의 강아지와 고양이 사진(2,000개는 강아지, 2,000개는 고양이)으로 구성된 데이터셋에서 강아지와 고양이 이미지를 분류\n",
    "# 훈련을 위해 2,000개의 사진을 사용하고 검증과 테스트에 각각 1,000개의 사진을 사용.\n",
    "# 기본 성능 측정"
   ]
  },
  {
   "cell_type": "markdown",
   "metadata": {},
   "source": [
    "[![Open In Colab](https://colab.research.google.com/assets/colab-badge.svg)](https://colab.research.google.com/github/gbmax/open/blob/master/DL/7.1-convnet_DogsNCats.ipynb)"
   ]
  },
  {
   "cell_type": "code",
   "execution_count": 11,
   "metadata": {
    "colab": {
     "base_uri": "https://localhost:8080/",
     "height": 35
    },
    "executionInfo": {
     "elapsed": 235,
     "status": "ok",
     "timestamp": 1645599308183,
     "user": {
      "displayName": "GB gbyoon",
      "photoUrl": "https://lh3.googleusercontent.com/a/default-user=s64",
      "userId": "04602923227316309017"
     },
     "user_tz": -540
    },
    "id": "tqHX_v2lQlEC",
    "outputId": "846278d8-4a2d-44b8-961c-999489fcd00d"
   },
   "outputs": [
    {
     "data": {
      "text/plain": [
       "'/home/pi/Code/DL'"
      ]
     },
     "execution_count": 11,
     "metadata": {},
     "output_type": "execute_result"
    }
   ],
   "source": [
    "# Colab 환경 사전작업\n",
    "import os, shutil\n",
    "if 'COLAB_GPU' in os.environ:\n",
    "  Colab = True\n",
    "else:\n",
    "  Colab = False\n",
    "\n",
    "os.getcwd()"
   ]
  },
  {
   "cell_type": "code",
   "execution_count": 12,
   "metadata": {
    "colab": {
     "base_uri": "https://localhost:8080/"
    },
    "executionInfo": {
     "elapsed": 242,
     "status": "ok",
     "timestamp": 1645599226635,
     "user": {
      "displayName": "GB gbyoon",
      "photoUrl": "https://lh3.googleusercontent.com/a/default-user=s64",
      "userId": "04602923227316309017"
     },
     "user_tz": -540
    },
    "id": "RoXOErBTQtj1",
    "outputId": "6c473c63-70ce-4492-ffee-3fe35f7db386"
   },
   "outputs": [
    {
     "name": "stdout",
     "output_type": "stream",
     "text": [
      "ls: cannot access '/content/drive': No such file or directory\n"
     ]
    }
   ],
   "source": [
    "!ls /content/drive"
   ]
  },
  {
   "cell_type": "code",
   "execution_count": 13,
   "metadata": {
    "colab": {
     "base_uri": "https://localhost:8080/"
    },
    "executionInfo": {
     "elapsed": 248,
     "status": "ok",
     "timestamp": 1645599230553,
     "user": {
      "displayName": "GB gbyoon",
      "photoUrl": "https://lh3.googleusercontent.com/a/default-user=s64",
      "userId": "04602923227316309017"
     },
     "user_tz": -540
    },
    "id": "0WxA-wfBQ7ff",
    "outputId": "065a72f8-013f-4b25-f0da-376da4e9bb6f"
   },
   "outputs": [
    {
     "name": "stdout",
     "output_type": "stream",
     "text": [
      "/home/pi/Code/DL\n"
     ]
    }
   ],
   "source": [
    "!pwd"
   ]
  },
  {
   "cell_type": "code",
   "execution_count": null,
   "metadata": {
    "colab": {
     "base_uri": "https://localhost:8080/"
    },
    "executionInfo": {
     "elapsed": 15968,
     "status": "ok",
     "timestamp": 1645599251496,
     "user": {
      "displayName": "GB gbyoon",
      "photoUrl": "https://lh3.googleusercontent.com/a/default-user=s64",
      "userId": "04602923227316309017"
     },
     "user_tz": -540
    },
    "id": "tECHoLaOVisw",
    "outputId": "f6afaf57-0a4c-4b9b-e0b5-c9b2380d6a4f"
   },
   "outputs": [
    {
     "name": "stdout",
     "output_type": "stream",
     "text": [
      "Mounted at /content/drive\n"
     ]
    }
   ],
   "source": [
    "from google.colab import drive\n",
    "drive.mount('/content/drive')"
   ]
  },
  {
   "cell_type": "code",
   "execution_count": null,
   "metadata": {
    "colab": {
     "base_uri": "https://localhost:8080/"
    },
    "executionInfo": {
     "elapsed": 3525,
     "status": "ok",
     "timestamp": 1645599273516,
     "user": {
      "displayName": "GB gbyoon",
      "photoUrl": "https://lh3.googleusercontent.com/a/default-user=s64",
      "userId": "04602923227316309017"
     },
     "user_tz": -540
    },
    "id": "q6ycfcgkS0qX",
    "outputId": "04bedeae-5c22-4ca0-a97f-d0320f0fb080"
   },
   "outputs": [
    {
     "name": "stdout",
     "output_type": "stream",
     "text": [
      "Done\n"
     ]
    }
   ],
   "source": [
    "# shutil.copy('/content/drive/MyDrive/Colab Notebooks/7.1-convnet(DogsNCats).ipynb','.')\n",
    "from zipfile import ZipFile\n",
    "with ZipFile('/content/drive/MyDrive/Colab Notebooks/data_org.zip', 'r') as zip:\n",
    "  zip.extractall('data/data_org')\n",
    "  print('Done')"
   ]
  },
  {
   "cell_type": "code",
   "execution_count": 14,
   "metadata": {
    "id": "E_4P9iB8QPk5"
   },
   "outputs": [],
   "source": [
    "# =======================================================================================================\n",
    "\n",
    "# (분석)\n",
    "# 딥러닝은 데이터가 풍부할 때만 작동한다?\n",
    "# 입력 샘플이 이미지와 같이 매우 고차원인 문제에서는 특히 훈련 샘플이 많아야만 가능.\n",
    "# 컨브넷은 지역적이고 평행 이동으로 변하지 않는 특성을 학습하기 때문에 지각에 관한 문제에서 적은 데이타 적용 가능."
   ]
  },
  {
   "cell_type": "code",
   "execution_count": null,
   "metadata": {
    "id": "lX5kTOCQQPk9"
   },
   "outputs": [],
   "source": [
    "# (참고) 원데이타 내려받기 위치 : https://www.kaggle.com/c/dogs-vs-cats/data"
   ]
  },
  {
   "cell_type": "code",
   "execution_count": 15,
   "metadata": {
    "colab": {
     "base_uri": "https://localhost:8080/",
     "height": 35
    },
    "executionInfo": {
     "elapsed": 2753,
     "status": "ok",
     "timestamp": 1645599284537,
     "user": {
      "displayName": "GB gbyoon",
      "photoUrl": "https://lh3.googleusercontent.com/a/default-user=s64",
      "userId": "04602923227316309017"
     },
     "user_tz": -540
    },
    "id": "lwXBbWTwQPk-",
    "outputId": "a3370026-b8c3-4097-d99d-0e4fc130dc3f"
   },
   "outputs": [
    {
     "data": {
      "text/plain": [
       "'2.8.0'"
      ]
     },
     "execution_count": 15,
     "metadata": {},
     "output_type": "execute_result"
    }
   ],
   "source": [
    "import warnings\n",
    "warnings.filterwarnings(\"ignore\", category=FutureWarning)\n",
    "from tensorflow import keras\n",
    "from tensorflow.keras import layers\n",
    "from tensorflow.keras import models\n",
    "keras.__version__"
   ]
  },
  {
   "cell_type": "code",
   "execution_count": 22,
   "metadata": {
    "id": "k0ynwAu5QPlA"
   },
   "outputs": [],
   "source": [
    "# 원본 데이터셋을 압축 해제한 디렉터리 경로\n",
    "original_dataset_dir = './data/data_org'\n",
    "\n",
    "# 소규모 데이터셋을 저장할 디렉터리\n",
    "base_dir = './data/cats_and_dogs_small'\n",
    "if os.path.exists(base_dir):  # 반복적인 실행을 위해 디렉토리를 삭제합니다.\n",
    "    shutil.rmtree(base_dir)\n",
    "os.mkdir(base_dir)\n",
    "\n",
    "# 훈련, 검증, 테스트 분할을 위한 디렉터리\n",
    "train_dir = os.path.join(base_dir, 'train')\n",
    "\n",
    "os.mkdir(train_dir)\n",
    "validation_dir = os.path.join(base_dir, 'validation')\n",
    "os.mkdir(validation_dir)\n",
    "test_dir = os.path.join(base_dir, 'test')\n",
    "os.mkdir(test_dir)"
   ]
  },
  {
   "cell_type": "code",
   "execution_count": 25,
   "metadata": {
    "id": "k0ynwAu5QPlA"
   },
   "outputs": [],
   "source": [
    "# 훈련용 고양이 사진 디렉터리\n",
    "train_cats_dir = os.path.join(train_dir, 'cats')\n",
    "os.mkdir(train_cats_dir)\n",
    "\n",
    "# 훈련용 강아지 사진 디렉터리\n",
    "train_dogs_dir = os.path.join(train_dir, 'dogs')\n",
    "os.mkdir(train_dogs_dir)\n",
    "\n",
    "# 검증용 고양이 사진 디렉터리\n",
    "validation_cats_dir = os.path.join(validation_dir, 'cats')\n",
    "os.mkdir(validation_cats_dir)\n",
    "\n",
    "# 검증용 강아지 사진 디렉터리\n",
    "validation_dogs_dir = os.path.join(validation_dir, 'dogs')\n",
    "os.mkdir(validation_dogs_dir)\n",
    "\n",
    "# 테스트용 고양이 사진 디렉터리\n",
    "test_cats_dir = os.path.join(test_dir, 'cats')\n",
    "os.mkdir(test_cats_dir)\n",
    "\n",
    "# 테스트용 강아지 사진 디렉터리\n",
    "test_dogs_dir = os.path.join(test_dir, 'dogs')\n",
    "os.mkdir(test_dogs_dir)"
   ]
  },
  {
   "cell_type": "code",
   "execution_count": 28,
   "metadata": {
    "id": "k0ynwAu5QPlA"
   },
   "outputs": [],
   "source": [
    "# 처음 1,000개의 고양이 이미지를 train_cats_dir에 복사\n",
    "fnames = ['cat.{}.jpg'.format(i) for i in range(1000)]\n",
    "\n",
    "for fname in fnames:\n",
    "    src = os.path.join(original_dataset_dir, fname)\n",
    "    dst = os.path.join(train_cats_dir, fname)\n",
    "    shutil.copyfile(src, dst)\n",
    "\n",
    "# 다음 500개 고양이 이미지를 validation_cats_dir에 복사합니다\n",
    "fnames = ['cat.{}.jpg'.format(i) for i in range(1000, 1500)]\n",
    "for fname in fnames:\n",
    "    src = os.path.join(original_dataset_dir, fname)\n",
    "    dst = os.path.join(validation_cats_dir, fname)\n",
    "    shutil.copyfile(src, dst)\n",
    "    \n",
    "# 다음 500개 고양이 이미지를 test_cats_dir에 복사합니다\n",
    "fnames = ['cat.{}.jpg'.format(i) for i in range(1500, 2000)]\n",
    "for fname in fnames:\n",
    "    src = os.path.join(original_dataset_dir, fname)\n",
    "    dst = os.path.join(test_cats_dir, fname)\n",
    "    shutil.copyfile(src, dst)\n",
    "    \n",
    "# 처음 1,000개의 강아지 이미지를 train_dogs_dir에 복사합니다\n",
    "fnames = ['dog.{}.jpg'.format(i) for i in range(1000)]\n",
    "for fname in fnames:\n",
    "    src = os.path.join(original_dataset_dir, fname)\n",
    "    dst = os.path.join(train_dogs_dir, fname)\n",
    "    shutil.copyfile(src, dst)\n",
    "    \n",
    "# 다음 500개 강아지 이미지를 validation_dogs_dir에 복사합니다\n",
    "fnames = ['dog.{}.jpg'.format(i) for i in range(1000, 1500)]\n",
    "for fname in fnames:\n",
    "    src = os.path.join(original_dataset_dir, fname)\n",
    "    dst = os.path.join(validation_dogs_dir, fname)\n",
    "    shutil.copyfile(src, dst)\n",
    "    \n",
    "# 다음 500개 강아지 이미지를 test_dogs_dir에 복사합니다\n",
    "fnames = ['dog.{}.jpg'.format(i) for i in range(1500, 2000)]\n",
    "for fname in fnames:\n",
    "    src = os.path.join(original_dataset_dir, fname)\n",
    "    dst = os.path.join(test_dogs_dir, fname)\n",
    "    shutil.copyfile(src, dst)"
   ]
  },
  {
   "cell_type": "code",
   "execution_count": 29,
   "metadata": {
    "colab": {
     "base_uri": "https://localhost:8080/"
    },
    "executionInfo": {
     "elapsed": 600,
     "status": "ok",
     "timestamp": 1645599095088,
     "user": {
      "displayName": "GB gbyoon",
      "photoUrl": "https://lh3.googleusercontent.com/a/default-user=s64",
      "userId": "04602923227316309017"
     },
     "user_tz": -540
    },
    "id": "IJu6q-P1QPlC",
    "outputId": "eece041c-74d5-402a-8db0-24b3f20de80c"
   },
   "outputs": [
    {
     "name": "stdout",
     "output_type": "stream",
     "text": [
      "훈련용 고양이 이미지 전체 개수: 1000\n",
      "훈련용 강아지 이미지 전체 개수: 1000\n",
      "검증용 고양이 이미지 전체 개수: 500\n",
      "검증용 강아지 이미지 전체 개수: 500\n",
      "테스트용 고양이 이미지 전체 개수: 500\n",
      "테스트용 강아지 이미지 전체 개수: 500\n"
     ]
    }
   ],
   "source": [
    "print('훈련용 고양이 이미지 전체 개수:', len(os.listdir(train_cats_dir)))\n",
    "print('훈련용 강아지 이미지 전체 개수:', len(os.listdir(train_dogs_dir)))\n",
    "print('검증용 고양이 이미지 전체 개수:', len(os.listdir(validation_cats_dir)))\n",
    "print('검증용 강아지 이미지 전체 개수:', len(os.listdir(validation_dogs_dir)))\n",
    "print('테스트용 고양이 이미지 전체 개수:', len(os.listdir(test_cats_dir)))\n",
    "print('테스트용 강아지 이미지 전체 개수:', len(os.listdir(test_dogs_dir)))"
   ]
  },
  {
   "cell_type": "code",
   "execution_count": null,
   "metadata": {
    "id": "z2giUM7_QPlD"
   },
   "outputs": [],
   "source": [
    "# (네트워크 구성)\n",
    "# 이전보다 이미지가 크고 복잡한 문제이기 때문에 네트워크를 좀 더 크게 만듬.\n",
    "# 특성 맵의 깊이는 네트워크에서 점진적으로 증가(32에서 128까지)\n",
    "# `Flatten` 층의 크기가 너무 커지지 않도록 특성 맵의 크기는 감소합니다(150 × 150에서 7 × 7까지).\n",
    "# 이진 분류 문제이므로 네트워크는 하나의 유닛(크기가 1인 `Dense` 층)과 `sigmoid` 활성화 함수."
   ]
  },
  {
   "cell_type": "code",
   "execution_count": 30,
   "metadata": {
    "id": "LAaGDTUHQPlD"
   },
   "outputs": [],
   "source": [
    "from tensorflow.keras import layers\n",
    "from tensorflow.keras import models\n",
    "\n",
    "model = models.Sequential()\n",
    "model.add(layers.Conv2D(32, (3, 3), activation='relu',\n",
    "                        input_shape=(150, 150, 3)))\n",
    "model.add(layers.MaxPooling2D((2, 2)))\n",
    "model.add(layers.Conv2D(64, (3, 3), activation='relu'))\n",
    "model.add(layers.MaxPooling2D((2, 2)))\n",
    "model.add(layers.Conv2D(128, (3, 3), activation='relu'))\n",
    "model.add(layers.MaxPooling2D((2, 2)))\n",
    "model.add(layers.Conv2D(128, (3, 3), activation='relu'))\n",
    "model.add(layers.MaxPooling2D((2, 2)))\n",
    "model.add(layers.Flatten())\n",
    "model.add(layers.Dense(512, activation='relu'))\n",
    "model.add(layers.Dense(1, activation='sigmoid'))"
   ]
  },
  {
   "cell_type": "code",
   "execution_count": 36,
   "metadata": {
    "collapsed": true,
    "jupyter": {
     "outputs_hidden": true
    },
    "tags": []
   },
   "outputs": [
    {
     "data": {
      "text/plain": [
       "{'name': 'conv2d_3',\n",
       " 'trainable': True,\n",
       " 'batch_input_shape': (None, 150, 150, 3),\n",
       " 'dtype': 'float32',\n",
       " 'filters': 32,\n",
       " 'kernel_size': (3, 3),\n",
       " 'strides': (1, 1),\n",
       " 'padding': 'valid',\n",
       " 'data_format': 'channels_last',\n",
       " 'dilation_rate': (1, 1),\n",
       " 'groups': 1,\n",
       " 'activation': 'relu',\n",
       " 'use_bias': True,\n",
       " 'kernel_initializer': {'class_name': 'GlorotUniform',\n",
       "  'config': {'seed': None}},\n",
       " 'bias_initializer': {'class_name': 'Zeros', 'config': {}},\n",
       " 'kernel_regularizer': None,\n",
       " 'bias_regularizer': None,\n",
       " 'activity_regularizer': None,\n",
       " 'kernel_constraint': None,\n",
       " 'bias_constraint': None}"
      ]
     },
     "execution_count": 36,
     "metadata": {},
     "output_type": "execute_result"
    }
   ],
   "source": [
    "model.layers[0].get_config()"
   ]
  },
  {
   "cell_type": "code",
   "execution_count": 31,
   "metadata": {
    "colab": {
     "base_uri": "https://localhost:8080/"
    },
    "collapsed": true,
    "executionInfo": {
     "elapsed": 403,
     "status": "ok",
     "timestamp": 1645599342840,
     "user": {
      "displayName": "GB gbyoon",
      "photoUrl": "https://lh3.googleusercontent.com/a/default-user=s64",
      "userId": "04602923227316309017"
     },
     "user_tz": -540
    },
    "id": "QA-0glhJQPlE",
    "jupyter": {
     "outputs_hidden": true
    },
    "outputId": "e6b25e00-489f-46a5-e492-d3bfd345fd48",
    "tags": []
   },
   "outputs": [
    {
     "name": "stdout",
     "output_type": "stream",
     "text": [
      "Model: \"sequential_1\"\n",
      "_________________________________________________________________\n",
      " Layer (type)                Output Shape              Param #   \n",
      "=================================================================\n",
      " conv2d_3 (Conv2D)           (None, 148, 148, 32)      896       \n",
      "                                                                 \n",
      " max_pooling2d_2 (MaxPooling  (None, 74, 74, 32)       0         \n",
      " 2D)                                                             \n",
      "                                                                 \n",
      " conv2d_4 (Conv2D)           (None, 72, 72, 64)        18496     \n",
      "                                                                 \n",
      " max_pooling2d_3 (MaxPooling  (None, 36, 36, 64)       0         \n",
      " 2D)                                                             \n",
      "                                                                 \n",
      " conv2d_5 (Conv2D)           (None, 34, 34, 128)       73856     \n",
      "                                                                 \n",
      " max_pooling2d_4 (MaxPooling  (None, 17, 17, 128)      0         \n",
      " 2D)                                                             \n",
      "                                                                 \n",
      " conv2d_6 (Conv2D)           (None, 15, 15, 128)       147584    \n",
      "                                                                 \n",
      " max_pooling2d_5 (MaxPooling  (None, 7, 7, 128)        0         \n",
      " 2D)                                                             \n",
      "                                                                 \n",
      " flatten_1 (Flatten)         (None, 6272)              0         \n",
      "                                                                 \n",
      " dense_2 (Dense)             (None, 512)               3211776   \n",
      "                                                                 \n",
      " dense_3 (Dense)             (None, 1)                 513       \n",
      "                                                                 \n",
      "=================================================================\n",
      "Total params: 3,453,121\n",
      "Trainable params: 3,453,121\n",
      "Non-trainable params: 0\n",
      "_________________________________________________________________\n"
     ]
    }
   ],
   "source": [
    "model.summary()"
   ]
  },
  {
   "cell_type": "code",
   "execution_count": 37,
   "metadata": {
    "colab": {
     "base_uri": "https://localhost:8080/"
    },
    "executionInfo": {
     "elapsed": 225,
     "status": "ok",
     "timestamp": 1645599346358,
     "user": {
      "displayName": "GB gbyoon",
      "photoUrl": "https://lh3.googleusercontent.com/a/default-user=s64",
      "userId": "04602923227316309017"
     },
     "user_tz": -540
    },
    "id": "5pOPsfVvQPlF",
    "outputId": "d8e74948-5f13-4034-ddab-010a3ca74b50"
   },
   "outputs": [
    {
     "name": "stderr",
     "output_type": "stream",
     "text": [
      "/home/pi/miniconda3/envs/study-tf/lib/python3.8/site-packages/keras/optimizer_v2/rmsprop.py:130: UserWarning: The `lr` argument is deprecated, use `learning_rate` instead.\n",
      "  super(RMSprop, self).__init__(name, **kwargs)\n"
     ]
    }
   ],
   "source": [
    "# 옵티마이저 : `RMSprop`\n",
    "# 손실함수 : 이진 크로스엔트로피(binary crossentropy)\n",
    "from tensorflow.keras import optimizers\n",
    "model.compile(loss='binary_crossentropy',\n",
    "              optimizer=optimizers.RMSprop(lr=1e-4),\n",
    "              metrics=['accuracy'])"
   ]
  },
  {
   "cell_type": "markdown",
   "metadata": {
    "id": "vWG7C-CJQPlG"
   },
   "source": [
    "#### 데이터 전처리"
   ]
  },
  {
   "cell_type": "code",
   "execution_count": null,
   "metadata": {
    "id": "vWG7C-CJQPlG"
   },
   "outputs": [],
   "source": [
    "# 네트워크에 주입되기 전에 부동 소수 타입의 텐서로 변환\n",
    "# `ImageDataGenerator` : 디스크에 있는 이미지 파일을 읽어서 전처리된 배치 텐서로 자동으로 바꾸어줌."
   ]
  },
  {
   "cell_type": "code",
   "execution_count": 38,
   "metadata": {},
   "outputs": [
    {
     "data": {
      "text/plain": [
       "'./data/cats_and_dogs_small/train'"
      ]
     },
     "execution_count": 38,
     "metadata": {},
     "output_type": "execute_result"
    }
   ],
   "source": [
    "train_dir"
   ]
  },
  {
   "cell_type": "code",
   "execution_count": 39,
   "metadata": {
    "colab": {
     "base_uri": "https://localhost:8080/"
    },
    "executionInfo": {
     "elapsed": 614,
     "status": "ok",
     "timestamp": 1645599350203,
     "user": {
      "displayName": "GB gbyoon",
      "photoUrl": "https://lh3.googleusercontent.com/a/default-user=s64",
      "userId": "04602923227316309017"
     },
     "user_tz": -540
    },
    "id": "x950j4maQPlG",
    "outputId": "4a402843-2b5b-4ac0-e02f-5d03aecba09c"
   },
   "outputs": [
    {
     "name": "stdout",
     "output_type": "stream",
     "text": [
      "Found 2000 images belonging to 2 classes.\n",
      "Found 1000 images belonging to 2 classes.\n"
     ]
    }
   ],
   "source": [
    "from tensorflow.keras.preprocessing.image import ImageDataGenerator\n",
    "train_datagen = ImageDataGenerator(rescale=1./255) # 모든 이미지를 1/255로 스케일을 조정\n",
    "test_datagen = ImageDataGenerator(rescale=1./255)\n",
    "\n",
    "train_generator = train_datagen.flow_from_directory(\n",
    "        train_dir,                  # 타깃 디렉터리\n",
    "        target_size=(150, 150),     # 모든 이미지를 150 × 150 크기로\n",
    "        batch_size=20,\n",
    "        class_mode='binary')        # binary_crossentropy 손실을 사용\n",
    "\n",
    "validation_generator = test_datagen.flow_from_directory(\n",
    "        validation_dir,\n",
    "        target_size=(150, 150),\n",
    "        batch_size=20,\n",
    "        class_mode='binary')"
   ]
  },
  {
   "cell_type": "code",
   "execution_count": 40,
   "metadata": {
    "colab": {
     "base_uri": "https://localhost:8080/"
    },
    "executionInfo": {
     "elapsed": 215,
     "status": "ok",
     "timestamp": 1645599352482,
     "user": {
      "displayName": "GB gbyoon",
      "photoUrl": "https://lh3.googleusercontent.com/a/default-user=s64",
      "userId": "04602923227316309017"
     },
     "user_tz": -540
    },
    "id": "Yjg9Gnx_QPlH",
    "outputId": "c5b4a819-cf3a-4492-bf57-4f7bffb721b9"
   },
   "outputs": [
    {
     "name": "stdout",
     "output_type": "stream",
     "text": [
      "배치 데이터 크기: (20, 150, 150, 3)\n",
      "배치 레이블 크기: (20,)\n"
     ]
    }
   ],
   "source": [
    "# 제너레이터는 이 배치를 무한정 만들어 냅니다(타깃 폴더에 있는 이미지를 반복)\n",
    "# 반복 루프안의 어디에선가 `break` 문을 사용해야 함.\n",
    "for data_batch, labels_batch in train_generator:\n",
    "    print('배치 데이터 크기:', data_batch.shape)\n",
    "    print('배치 레이블 크기:', labels_batch.shape)\n",
    "    break"
   ]
  },
  {
   "cell_type": "code",
   "execution_count": null,
   "metadata": {
    "colab": {
     "base_uri": "https://localhost:8080/"
    },
    "executionInfo": {
     "elapsed": 249,
     "status": "ok",
     "timestamp": 1645599354916,
     "user": {
      "displayName": "GB gbyoon",
      "photoUrl": "https://lh3.googleusercontent.com/a/default-user=s64",
      "userId": "04602923227316309017"
     },
     "user_tz": -540
    },
    "id": "zd7TcetnQPlH",
    "outputId": "e897d4e7-c5d6-4842-f25a-f19875437565"
   },
   "outputs": [
    {
     "data": {
      "text/plain": [
       "array([0., 0., 1., 0., 0., 1., 0., 1., 1., 0., 0., 1., 1., 0., 0., 1., 0.,\n",
       "       1., 0., 1.], dtype=float32)"
      ]
     },
     "execution_count": 15,
     "metadata": {},
     "output_type": "execute_result"
    }
   ],
   "source": [
    "labels_batch"
   ]
  },
  {
   "cell_type": "markdown",
   "metadata": {
    "id": "kr59gLX6QPlI"
   },
   "source": []
  },
  {
   "cell_type": "code",
   "execution_count": null,
   "metadata": {
    "colab": {
     "base_uri": "https://localhost:8080/"
    },
    "executionInfo": {
     "elapsed": 360447,
     "status": "ok",
     "timestamp": 1645599724702,
     "user": {
      "displayName": "GB gbyoon",
      "photoUrl": "https://lh3.googleusercontent.com/a/default-user=s64",
      "userId": "04602923227316309017"
     },
     "user_tz": -540
    },
    "id": "FN_R_TceQPlI",
    "outputId": "57728be8-e634-4d51-a0b5-084cbc5b5bce"
   },
   "outputs": [
    {
     "name": "stderr",
     "output_type": "stream",
     "text": [
      "/usr/local/lib/python3.7/dist-packages/ipykernel_launcher.py:8: UserWarning: `Model.fit_generator` is deprecated and will be removed in a future version. Please use `Model.fit`, which supports generators.\n",
      "  \n"
     ]
    },
    {
     "name": "stdout",
     "output_type": "stream",
     "text": [
      "Epoch 1/30\n",
      "100/100 [==============================] - 23s 116ms/step - loss: 0.6917 - accuracy: 0.5330 - val_loss: 0.6690 - val_accuracy: 0.6180\n",
      "Epoch 2/30\n",
      "100/100 [==============================] - 12s 115ms/step - loss: 0.6539 - accuracy: 0.6120 - val_loss: 0.6381 - val_accuracy: 0.6270\n",
      "Epoch 3/30\n",
      "100/100 [==============================] - 11s 113ms/step - loss: 0.6076 - accuracy: 0.6690 - val_loss: 0.6314 - val_accuracy: 0.6350\n",
      "Epoch 4/30\n",
      "100/100 [==============================] - 11s 112ms/step - loss: 0.5763 - accuracy: 0.6945 - val_loss: 0.5909 - val_accuracy: 0.6690\n",
      "Epoch 5/30\n",
      "100/100 [==============================] - 11s 112ms/step - loss: 0.5433 - accuracy: 0.7360 - val_loss: 0.5809 - val_accuracy: 0.6690\n",
      "Epoch 6/30\n",
      "100/100 [==============================] - 11s 112ms/step - loss: 0.5192 - accuracy: 0.7430 - val_loss: 0.5870 - val_accuracy: 0.6720\n",
      "Epoch 7/30\n",
      "100/100 [==============================] - 11s 111ms/step - loss: 0.4872 - accuracy: 0.7635 - val_loss: 0.5621 - val_accuracy: 0.7060\n",
      "Epoch 8/30\n",
      "100/100 [==============================] - 11s 115ms/step - loss: 0.4581 - accuracy: 0.7810 - val_loss: 0.5397 - val_accuracy: 0.7210\n",
      "Epoch 9/30\n",
      "100/100 [==============================] - 11s 111ms/step - loss: 0.4309 - accuracy: 0.7935 - val_loss: 0.5525 - val_accuracy: 0.7320\n",
      "Epoch 10/30\n",
      "100/100 [==============================] - 11s 112ms/step - loss: 0.4051 - accuracy: 0.8175 - val_loss: 0.5521 - val_accuracy: 0.7080\n",
      "Epoch 11/30\n",
      "100/100 [==============================] - 11s 113ms/step - loss: 0.3801 - accuracy: 0.8290 - val_loss: 0.5206 - val_accuracy: 0.7370\n",
      "Epoch 12/30\n",
      "100/100 [==============================] - 11s 113ms/step - loss: 0.3520 - accuracy: 0.8450 - val_loss: 0.5813 - val_accuracy: 0.7270\n",
      "Epoch 13/30\n",
      "100/100 [==============================] - 11s 110ms/step - loss: 0.3329 - accuracy: 0.8585 - val_loss: 0.5252 - val_accuracy: 0.7380\n",
      "Epoch 14/30\n",
      "100/100 [==============================] - 11s 111ms/step - loss: 0.3083 - accuracy: 0.8700 - val_loss: 0.5405 - val_accuracy: 0.7420\n",
      "Epoch 15/30\n",
      "100/100 [==============================] - 11s 110ms/step - loss: 0.2863 - accuracy: 0.8825 - val_loss: 0.6104 - val_accuracy: 0.7450\n",
      "Epoch 16/30\n",
      "100/100 [==============================] - 11s 114ms/step - loss: 0.2698 - accuracy: 0.8880 - val_loss: 0.5355 - val_accuracy: 0.7520\n",
      "Epoch 17/30\n",
      "100/100 [==============================] - 11s 114ms/step - loss: 0.2465 - accuracy: 0.9010 - val_loss: 0.6164 - val_accuracy: 0.7350\n",
      "Epoch 18/30\n",
      "100/100 [==============================] - 11s 113ms/step - loss: 0.2295 - accuracy: 0.9050 - val_loss: 0.5822 - val_accuracy: 0.7360\n",
      "Epoch 19/30\n",
      "100/100 [==============================] - 11s 114ms/step - loss: 0.2059 - accuracy: 0.9245 - val_loss: 0.5804 - val_accuracy: 0.7340\n",
      "Epoch 20/30\n",
      "100/100 [==============================] - 11s 115ms/step - loss: 0.1831 - accuracy: 0.9400 - val_loss: 0.6157 - val_accuracy: 0.7430\n",
      "Epoch 21/30\n",
      "100/100 [==============================] - 11s 113ms/step - loss: 0.1620 - accuracy: 0.9445 - val_loss: 0.6385 - val_accuracy: 0.7520\n",
      "Epoch 22/30\n",
      "100/100 [==============================] - 11s 113ms/step - loss: 0.1451 - accuracy: 0.9490 - val_loss: 0.7330 - val_accuracy: 0.7290\n",
      "Epoch 23/30\n",
      "100/100 [==============================] - 11s 113ms/step - loss: 0.1315 - accuracy: 0.9565 - val_loss: 0.7279 - val_accuracy: 0.7420\n",
      "Epoch 24/30\n",
      "100/100 [==============================] - 11s 115ms/step - loss: 0.1212 - accuracy: 0.9620 - val_loss: 0.7115 - val_accuracy: 0.7340\n",
      "Epoch 25/30\n",
      "100/100 [==============================] - 11s 112ms/step - loss: 0.1048 - accuracy: 0.9630 - val_loss: 0.6946 - val_accuracy: 0.7520\n",
      "Epoch 26/30\n",
      "100/100 [==============================] - 11s 111ms/step - loss: 0.0887 - accuracy: 0.9735 - val_loss: 0.7670 - val_accuracy: 0.7450\n",
      "Epoch 27/30\n",
      "100/100 [==============================] - 11s 112ms/step - loss: 0.0823 - accuracy: 0.9755 - val_loss: 0.8797 - val_accuracy: 0.7170\n",
      "Epoch 28/30\n",
      "100/100 [==============================] - 11s 113ms/step - loss: 0.0676 - accuracy: 0.9800 - val_loss: 0.9522 - val_accuracy: 0.7030\n",
      "Epoch 29/30\n",
      "100/100 [==============================] - 11s 114ms/step - loss: 0.0572 - accuracy: 0.9825 - val_loss: 0.8594 - val_accuracy: 0.7400\n",
      "Epoch 30/30\n",
      "100/100 [==============================] - 11s 112ms/step - loss: 0.0515 - accuracy: 0.9860 - val_loss: 0.8796 - val_accuracy: 0.7380\n"
     ]
    }
   ],
   "source": [
    "# `fit_generator` : `fit` 메서드와 동일하되 데이터 제너레이터를 사용\n",
    "\n",
    "history = model.fit_generator(\n",
    "      train_generator,               # 입력과 타깃의 배치를 끝없이 반환\n",
    "      steps_per_epoch=100,           # epoch당 제너레이터로부터 얼마나 많은 샘플을 뽑을 것인지.\n",
    "      epochs=30,\n",
    "      validation_data=validation_generator,\n",
    "      validation_steps=50)           # validation_steps = 1000(샘플수) /20(배치크기)"
   ]
  },
  {
   "cell_type": "code",
   "execution_count": null,
   "metadata": {
    "id": "72dxL_54QPlI"
   },
   "outputs": [],
   "source": [
    "model.save('./data/cats_and_dogs_small_1.h5')"
   ]
  },
  {
   "cell_type": "code",
   "execution_count": null,
   "metadata": {
    "id": "DIKg_FomQPlI"
   },
   "outputs": [],
   "source": [
    "import matplotlib.pyplot as plt"
   ]
  },
  {
   "cell_type": "code",
   "execution_count": null,
   "metadata": {
    "colab": {
     "base_uri": "https://localhost:8080/",
     "height": 545
    },
    "executionInfo": {
     "elapsed": 883,
     "status": "ok",
     "timestamp": 1645599768458,
     "user": {
      "displayName": "GB gbyoon",
      "photoUrl": "https://lh3.googleusercontent.com/a/default-user=s64",
      "userId": "04602923227316309017"
     },
     "user_tz": -540
    },
    "id": "BalyByw_QPlJ",
    "outputId": "e22e913b-e7f4-4014-8483-fe297c7a0252"
   },
   "outputs": [
    {
     "data": {
      "image/png": "[encoded data removed]",
      "text/plain": [
       "<Figure size 432x288 with 1 Axes>"
      ]
     },
     "metadata": {
      "needs_background": "light"
     },
     "output_type": "display_data"
    },
    {
     "data": {
      "image/png": "[encoded data removed]",
      "text/plain": [
       "<Figure size 432x288 with 1 Axes>"
      ]
     },
     "metadata": {
      "needs_background": "light"
     },
     "output_type": "display_data"
    }
   ],
   "source": [
    "acc = history.history['accuracy']\n",
    "val_acc = history.history['val_accuracy']\n",
    "loss = history.history['loss']\n",
    "val_loss = history.history['val_loss']\n",
    "\n",
    "epochs = range(len(acc))\n",
    "\n",
    "plt.plot(epochs, acc, 'bo', label='Training acc')\n",
    "plt.plot(epochs, val_acc, 'b', label='Validation acc')\n",
    "plt.title('Training and validation accuracy')\n",
    "plt.legend()\n",
    "\n",
    "plt.figure()\n",
    "\n",
    "plt.plot(epochs, loss, 'bo', label='Training loss')\n",
    "plt.plot(epochs, val_loss, 'b', label='Validation loss')\n",
    "plt.title('Training and validation loss')\n",
    "plt.legend()\n",
    "\n",
    "plt.show()"
   ]
  },
  {
   "cell_type": "code",
   "execution_count": null,
   "metadata": {
    "id": "7Qp9a6OFQPlJ"
   },
   "outputs": [],
   "source": [
    "# (분석)\n",
    "# 과대적합 특징.\n",
    "#   - 훈련 정확도는 100%에 근접하나 검증 정확도는 70-72% 수준.\n",
    "#   - 검증 손실은 이른 epoch에 최솟값 도달\n",
    "# 훈련 샘플의 수(2,000개)가 적기 때문에 과대적합이 가장 중요한 문제"
   ]
  }
 ],
 "metadata": {
  "accelerator": "GPU",
  "colab": {
   "collapsed_sections": [],
   "name": "7.1-convnet(DogsNCats).ipynb",
   "provenance": []
  },
  "kernelspec": {
   "display_name": "study-tf",
   "language": "python",
   "name": "study-tf"
  },
  "language_info": {
   "codemirror_mode": {
    "name": "ipython",
    "version": 3
   },
   "file_extension": ".py",
   "mimetype": "text/x-python",
   "name": "python",
   "nbconvert_exporter": "python",
   "pygments_lexer": "ipython3",
   "version": "3.8.12"
  }
 },
 "nbformat": 4,
 "nbformat_minor": 4
}
